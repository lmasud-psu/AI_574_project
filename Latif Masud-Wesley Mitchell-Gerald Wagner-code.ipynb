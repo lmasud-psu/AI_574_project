{
 "cells": [
  {
   "cell_type": "markdown",
   "metadata": {},
   "source": [
    "## Online banking fraud detection using natural language processing techniques"
   ]
  },
  {
   "cell_type": "markdown",
   "metadata": {},
   "source": [
    "**Team 9:**\n",
    "\n",
    "- Latif Masud\n",
    "- ​Wesley Mitchell\n",
    "- Gerald Wagner​\n",
    "\n",
    "**Course:** AI 574 – Natural Language Processing (Spring 2025)"
   ]
  },
  {
   "cell_type": "markdown",
   "metadata": {},
   "source": [
    "### Problem Statement\n",
    "* This project aims to identify fraudulent activity in online banking transactions using Natural Language Processing techniques. Online banking activity can be monitored by the webpages or API endpoints a user interacts with throughout their entire session history. With this sequence of user actions, a binary classification can be trained such that it labels the activity as valid or fraudulent; if fraudulent, remediation steps could then be implemented such as denying the transaction. With online banking a staple of people every day financial lives and 100's of millions of dollars transacted daily, identifying fraudulent activity is of upmost importance to prevent unnecessary monetary losses for both individuals and financial institutions.\n",
    "    \n",
    "* **Keywords:** Online banking, fraud, fraud detection, financial industry "
   ]
  },
  {
   "cell_type": "markdown",
   "metadata": {},
   "source": [
    "### Data Collection\n",
    "\n",
    "* Source(url): https://github.com/pboulieris/FraudNLP/blob/master/Fraud%20Detection%20with%20Natural%20Language%20Processing.rar\n",
    "* Short Description: The data set of 105,303 online banking transactions with 9 transaction characteristics:\n",
    "    * Action time mean: the average time between actions in a transaction\n",
    "    * Action time std: the standard deviation of the time between actions\n",
    "    * log(amount): the natural logarithm of the transaction amount\n",
    "    * Transaction Type: a string indicating whether the transaction is fraudulent or not\n",
    "    * time_to_first_action: the time between the start of the transaction and the first action taken\n",
    "    * actions_str: a string containing the names of all actions taken in the transaction\n",
    "    * total_time_to_transaction: the total time elapsed from the start of the transaction to its completion\n",
    "\n",
    "* Keywords: bank transactions, user actions, API endpoints, webpage urls, dollar amount"
   ]
  },
  {
   "cell_type": "markdown",
   "metadata": {},
   "source": [
    "### Required packages\n",
    "\n",
    "* the following packages are required to run this notebook:\n",
    "    * pandas\n",
    "    * scikit-learn\n",
    "\n",
    "Install by creating and activating a virtual environment, then installing via the pip command:\n",
    "\n",
    "!pip install pandas scikit-learn"
   ]
  },
  {
   "cell_type": "markdown",
   "metadata": {},
   "source": [
    "### Imports"
   ]
  },
  {
   "cell_type": "code",
   "execution_count": 1,
   "metadata": {},
   "outputs": [],
   "source": [
    "from pathlib import Path\n",
    "\n",
    "import pandas as pd\n",
    "from sklearn.model_selection import train_test_split"
   ]
  },
  {
   "cell_type": "markdown",
   "metadata": {},
   "source": [
    "### Load the data"
   ]
  },
  {
   "cell_type": "code",
   "execution_count": 2,
   "metadata": {},
   "outputs": [],
   "source": [
    "# online banking transaction data\n",
    "path = Path('./data/Fraud Detection with Natural Language Processing.pkl')\n",
    "df = pd.read_pickle(path)"
   ]
  },
  {
   "cell_type": "code",
   "execution_count": 3,
   "metadata": {},
   "outputs": [],
   "source": [
    "# vocabulary of API calls\n",
    "path_vocab = Path('./data/vocab.csv')\n",
    "df_vocab = pd.read_csv(path_vocab)"
   ]
  },
  {
   "cell_type": "markdown",
   "metadata": {},
   "source": [
    "### Exploratory data analysis (EDA)"
   ]
  },
  {
   "cell_type": "code",
   "execution_count": 4,
   "metadata": {},
   "outputs": [
    {
     "data": {
      "text/plain": [
       "(105303, 9)"
      ]
     },
     "execution_count": 4,
     "metadata": {},
     "output_type": "execute_result"
    }
   ],
   "source": [
    "df.shape"
   ]
  },
  {
   "cell_type": "code",
   "execution_count": 5,
   "metadata": {},
   "outputs": [
    {
     "data": {
      "text/html": [
       "<div>\n",
       "<style scoped>\n",
       "    .dataframe tbody tr th:only-of-type {\n",
       "        vertical-align: middle;\n",
       "    }\n",
       "\n",
       "    .dataframe tbody tr th {\n",
       "        vertical-align: top;\n",
       "    }\n",
       "\n",
       "    .dataframe thead th {\n",
       "        text-align: right;\n",
       "    }\n",
       "</style>\n",
       "<table border=\"1\" class=\"dataframe\">\n",
       "  <thead>\n",
       "    <tr style=\"text-align: right;\">\n",
       "      <th></th>\n",
       "      <th>actions</th>\n",
       "      <th>times</th>\n",
       "      <th>execution_time</th>\n",
       "      <th>Amount</th>\n",
       "      <th>device_freq</th>\n",
       "      <th>ip_freq</th>\n",
       "      <th>beneficiary_freq</th>\n",
       "      <th>application_freq</th>\n",
       "      <th>is_fraud</th>\n",
       "    </tr>\n",
       "  </thead>\n",
       "  <tbody>\n",
       "    <tr>\n",
       "      <th>0</th>\n",
       "      <td>[[2], [23], [6], [7], [14], [25], [28], [6], [...</td>\n",
       "      <td>[0, 47000.0, 640000.0, 6000.0, 54000.0, 10000....</td>\n",
       "      <td>203</td>\n",
       "      <td>15</td>\n",
       "      <td>1.000000</td>\n",
       "      <td>1.000000</td>\n",
       "      <td>1.000000</td>\n",
       "      <td>1.0</td>\n",
       "      <td>0</td>\n",
       "    </tr>\n",
       "    <tr>\n",
       "      <th>1</th>\n",
       "      <td>[[22], [27], [24], [1], [1268], [1269], [1267]...</td>\n",
       "      <td>[0, 33204.0, 215636.0, 443415.0, 72586.0, 3424...</td>\n",
       "      <td>203</td>\n",
       "      <td>13</td>\n",
       "      <td>1.000000</td>\n",
       "      <td>1.000000</td>\n",
       "      <td>0.500000</td>\n",
       "      <td>1.0</td>\n",
       "      <td>0</td>\n",
       "    </tr>\n",
       "    <tr>\n",
       "      <th>2</th>\n",
       "      <td>[[22], [24], [27], [1], [1268], [1269], [1267]...</td>\n",
       "      <td>[0, 25459.0, 46236.0, 428626.0, 42785.0, 74158...</td>\n",
       "      <td>359</td>\n",
       "      <td>310</td>\n",
       "      <td>1.000000</td>\n",
       "      <td>0.333333</td>\n",
       "      <td>0.333333</td>\n",
       "      <td>1.0</td>\n",
       "      <td>0</td>\n",
       "    </tr>\n",
       "    <tr>\n",
       "      <th>3</th>\n",
       "      <td>[[22], [1], [29], [22], [26], [2], [23], [25],...</td>\n",
       "      <td>[0, 440927.0, 5785.0, 46875.0, 968650.0, 31175...</td>\n",
       "      <td>250</td>\n",
       "      <td>350</td>\n",
       "      <td>1.000000</td>\n",
       "      <td>0.500000</td>\n",
       "      <td>0.500000</td>\n",
       "      <td>1.0</td>\n",
       "      <td>0</td>\n",
       "    </tr>\n",
       "    <tr>\n",
       "      <th>4</th>\n",
       "      <td>[[22], [24], [27], [72], [1269], [1268], [1267...</td>\n",
       "      <td>[0, 93894.0, 46810.0, 548388.0, 132548.0, 3784...</td>\n",
       "      <td>203</td>\n",
       "      <td>350</td>\n",
       "      <td>1.000000</td>\n",
       "      <td>0.600000</td>\n",
       "      <td>0.400000</td>\n",
       "      <td>1.0</td>\n",
       "      <td>0</td>\n",
       "    </tr>\n",
       "    <tr>\n",
       "      <th>5</th>\n",
       "      <td>[[22], [24], [27], [23], [2], [1269], [1269], ...</td>\n",
       "      <td>[0, 921997.0, 47386.0, 963970.0, 9522.0, 44359...</td>\n",
       "      <td>593</td>\n",
       "      <td>2000</td>\n",
       "      <td>1.000000</td>\n",
       "      <td>0.666667</td>\n",
       "      <td>0.166667</td>\n",
       "      <td>1.0</td>\n",
       "      <td>1</td>\n",
       "    </tr>\n",
       "    <tr>\n",
       "      <th>6</th>\n",
       "      <td>[[22], [47], [24], [27], [41], [2], [23], [6],...</td>\n",
       "      <td>[0, 48869.0, 843763.0, 138682.0, 203156.0, 944...</td>\n",
       "      <td>124</td>\n",
       "      <td>80</td>\n",
       "      <td>0.142857</td>\n",
       "      <td>0.142857</td>\n",
       "      <td>0.285714</td>\n",
       "      <td>1.0</td>\n",
       "      <td>0</td>\n",
       "    </tr>\n",
       "    <tr>\n",
       "      <th>7</th>\n",
       "      <td>[[37], [37]]</td>\n",
       "      <td>[0, 941710.0]</td>\n",
       "      <td>656</td>\n",
       "      <td>80</td>\n",
       "      <td>0.250000</td>\n",
       "      <td>0.250000</td>\n",
       "      <td>0.375000</td>\n",
       "      <td>1.0</td>\n",
       "      <td>0</td>\n",
       "    </tr>\n",
       "    <tr>\n",
       "      <th>8</th>\n",
       "      <td>[[10], [56], [12], [121], [13], [52], [19], [8...</td>\n",
       "      <td>[0, 437000.0, 93000.0, 860000.0, 14000.0, 1000...</td>\n",
       "      <td>595</td>\n",
       "      <td>135</td>\n",
       "      <td>1.000000</td>\n",
       "      <td>1.000000</td>\n",
       "      <td>1.000000</td>\n",
       "      <td>1.0</td>\n",
       "      <td>0</td>\n",
       "    </tr>\n",
       "    <tr>\n",
       "      <th>9</th>\n",
       "      <td>[[25], [4], [5], [24], [27], [41], [45], [4], ...</td>\n",
       "      <td>[0, 31238.0, 141391.0, 5510.0, 10000.0, 280000...</td>\n",
       "      <td>468</td>\n",
       "      <td>154</td>\n",
       "      <td>1.000000</td>\n",
       "      <td>1.000000</td>\n",
       "      <td>1.000000</td>\n",
       "      <td>1.0</td>\n",
       "      <td>0</td>\n",
       "    </tr>\n",
       "  </tbody>\n",
       "</table>\n",
       "</div>"
      ],
      "text/plain": [
       "                                             actions  \\\n",
       "0  [[2], [23], [6], [7], [14], [25], [28], [6], [...   \n",
       "1  [[22], [27], [24], [1], [1268], [1269], [1267]...   \n",
       "2  [[22], [24], [27], [1], [1268], [1269], [1267]...   \n",
       "3  [[22], [1], [29], [22], [26], [2], [23], [25],...   \n",
       "4  [[22], [24], [27], [72], [1269], [1268], [1267...   \n",
       "5  [[22], [24], [27], [23], [2], [1269], [1269], ...   \n",
       "6  [[22], [47], [24], [27], [41], [2], [23], [6],...   \n",
       "7                                       [[37], [37]]   \n",
       "8  [[10], [56], [12], [121], [13], [52], [19], [8...   \n",
       "9  [[25], [4], [5], [24], [27], [41], [45], [4], ...   \n",
       "\n",
       "                                               times  execution_time  Amount  \\\n",
       "0  [0, 47000.0, 640000.0, 6000.0, 54000.0, 10000....             203      15   \n",
       "1  [0, 33204.0, 215636.0, 443415.0, 72586.0, 3424...             203      13   \n",
       "2  [0, 25459.0, 46236.0, 428626.0, 42785.0, 74158...             359     310   \n",
       "3  [0, 440927.0, 5785.0, 46875.0, 968650.0, 31175...             250     350   \n",
       "4  [0, 93894.0, 46810.0, 548388.0, 132548.0, 3784...             203     350   \n",
       "5  [0, 921997.0, 47386.0, 963970.0, 9522.0, 44359...             593    2000   \n",
       "6  [0, 48869.0, 843763.0, 138682.0, 203156.0, 944...             124      80   \n",
       "7                                      [0, 941710.0]             656      80   \n",
       "8  [0, 437000.0, 93000.0, 860000.0, 14000.0, 1000...             595     135   \n",
       "9  [0, 31238.0, 141391.0, 5510.0, 10000.0, 280000...             468     154   \n",
       "\n",
       "   device_freq   ip_freq  beneficiary_freq  application_freq  is_fraud  \n",
       "0     1.000000  1.000000          1.000000               1.0         0  \n",
       "1     1.000000  1.000000          0.500000               1.0         0  \n",
       "2     1.000000  0.333333          0.333333               1.0         0  \n",
       "3     1.000000  0.500000          0.500000               1.0         0  \n",
       "4     1.000000  0.600000          0.400000               1.0         0  \n",
       "5     1.000000  0.666667          0.166667               1.0         1  \n",
       "6     0.142857  0.142857          0.285714               1.0         0  \n",
       "7     0.250000  0.250000          0.375000               1.0         0  \n",
       "8     1.000000  1.000000          1.000000               1.0         0  \n",
       "9     1.000000  1.000000          1.000000               1.0         0  "
      ]
     },
     "execution_count": 5,
     "metadata": {},
     "output_type": "execute_result"
    }
   ],
   "source": [
    "df.head(10)"
   ]
  },
  {
   "cell_type": "code",
   "execution_count": 6,
   "metadata": {},
   "outputs": [
    {
     "data": {
      "text/html": [
       "<div>\n",
       "<style scoped>\n",
       "    .dataframe tbody tr th:only-of-type {\n",
       "        vertical-align: middle;\n",
       "    }\n",
       "\n",
       "    .dataframe tbody tr th {\n",
       "        vertical-align: top;\n",
       "    }\n",
       "\n",
       "    .dataframe thead th {\n",
       "        text-align: right;\n",
       "    }\n",
       "</style>\n",
       "<table border=\"1\" class=\"dataframe\">\n",
       "  <thead>\n",
       "    <tr style=\"text-align: right;\">\n",
       "      <th></th>\n",
       "      <th>execution_time</th>\n",
       "      <th>Amount</th>\n",
       "      <th>device_freq</th>\n",
       "      <th>ip_freq</th>\n",
       "      <th>beneficiary_freq</th>\n",
       "      <th>application_freq</th>\n",
       "      <th>is_fraud</th>\n",
       "    </tr>\n",
       "  </thead>\n",
       "  <tbody>\n",
       "    <tr>\n",
       "      <th>count</th>\n",
       "      <td>105303.000000</td>\n",
       "      <td>1.053030e+05</td>\n",
       "      <td>105303.000000</td>\n",
       "      <td>105303.000000</td>\n",
       "      <td>105303.000000</td>\n",
       "      <td>105303.000000</td>\n",
       "      <td>105303.000000</td>\n",
       "    </tr>\n",
       "    <tr>\n",
       "      <th>mean</th>\n",
       "      <td>655.664236</td>\n",
       "      <td>4.687915e+02</td>\n",
       "      <td>0.706309</td>\n",
       "      <td>0.259218</td>\n",
       "      <td>0.406677</td>\n",
       "      <td>0.896871</td>\n",
       "      <td>0.000959</td>\n",
       "    </tr>\n",
       "    <tr>\n",
       "      <th>std</th>\n",
       "      <td>1367.867413</td>\n",
       "      <td>7.095939e+03</td>\n",
       "      <td>0.349859</td>\n",
       "      <td>0.307056</td>\n",
       "      <td>0.305293</td>\n",
       "      <td>0.218759</td>\n",
       "      <td>0.030955</td>\n",
       "    </tr>\n",
       "    <tr>\n",
       "      <th>min</th>\n",
       "      <td>15.000000</td>\n",
       "      <td>0.000000e+00</td>\n",
       "      <td>0.000960</td>\n",
       "      <td>0.000946</td>\n",
       "      <td>0.000954</td>\n",
       "      <td>0.002433</td>\n",
       "      <td>0.000000</td>\n",
       "    </tr>\n",
       "    <tr>\n",
       "      <th>25%</th>\n",
       "      <td>359.000000</td>\n",
       "      <td>3.700000e+01</td>\n",
       "      <td>0.400000</td>\n",
       "      <td>0.047619</td>\n",
       "      <td>0.142857</td>\n",
       "      <td>0.945455</td>\n",
       "      <td>0.000000</td>\n",
       "    </tr>\n",
       "    <tr>\n",
       "      <th>50%</th>\n",
       "      <td>623.000000</td>\n",
       "      <td>1.000000e+02</td>\n",
       "      <td>0.910256</td>\n",
       "      <td>0.120370</td>\n",
       "      <td>0.333333</td>\n",
       "      <td>1.000000</td>\n",
       "      <td>0.000000</td>\n",
       "    </tr>\n",
       "    <tr>\n",
       "      <th>75%</th>\n",
       "      <td>795.000000</td>\n",
       "      <td>2.400000e+02</td>\n",
       "      <td>1.000000</td>\n",
       "      <td>0.333333</td>\n",
       "      <td>0.641026</td>\n",
       "      <td>1.000000</td>\n",
       "      <td>0.000000</td>\n",
       "    </tr>\n",
       "    <tr>\n",
       "      <th>max</th>\n",
       "      <td>127578.000000</td>\n",
       "      <td>1.500000e+06</td>\n",
       "      <td>1.000000</td>\n",
       "      <td>1.000000</td>\n",
       "      <td>1.000000</td>\n",
       "      <td>1.000000</td>\n",
       "      <td>1.000000</td>\n",
       "    </tr>\n",
       "  </tbody>\n",
       "</table>\n",
       "</div>"
      ],
      "text/plain": [
       "       execution_time        Amount    device_freq        ip_freq  \\\n",
       "count   105303.000000  1.053030e+05  105303.000000  105303.000000   \n",
       "mean       655.664236  4.687915e+02       0.706309       0.259218   \n",
       "std       1367.867413  7.095939e+03       0.349859       0.307056   \n",
       "min         15.000000  0.000000e+00       0.000960       0.000946   \n",
       "25%        359.000000  3.700000e+01       0.400000       0.047619   \n",
       "50%        623.000000  1.000000e+02       0.910256       0.120370   \n",
       "75%        795.000000  2.400000e+02       1.000000       0.333333   \n",
       "max     127578.000000  1.500000e+06       1.000000       1.000000   \n",
       "\n",
       "       beneficiary_freq  application_freq       is_fraud  \n",
       "count     105303.000000     105303.000000  105303.000000  \n",
       "mean           0.406677          0.896871       0.000959  \n",
       "std            0.305293          0.218759       0.030955  \n",
       "min            0.000954          0.002433       0.000000  \n",
       "25%            0.142857          0.945455       0.000000  \n",
       "50%            0.333333          1.000000       0.000000  \n",
       "75%            0.641026          1.000000       0.000000  \n",
       "max            1.000000          1.000000       1.000000  "
      ]
     },
     "execution_count": 6,
     "metadata": {},
     "output_type": "execute_result"
    }
   ],
   "source": [
    "df.describe()"
   ]
  },
  {
   "cell_type": "code",
   "execution_count": 7,
   "metadata": {},
   "outputs": [
    {
     "data": {
      "text/plain": [
       "actions              object\n",
       "times                object\n",
       "execution_time        int64\n",
       "Amount                int32\n",
       "device_freq         float64\n",
       "ip_freq             float64\n",
       "beneficiary_freq    float64\n",
       "application_freq    float64\n",
       "is_fraud              int64\n",
       "dtype: object"
      ]
     },
     "execution_count": 7,
     "metadata": {},
     "output_type": "execute_result"
    }
   ],
   "source": [
    "df.dtypes"
   ]
  },
  {
   "cell_type": "code",
   "execution_count": 8,
   "metadata": {},
   "outputs": [
    {
     "data": {
      "text/html": [
       "<div>\n",
       "<style scoped>\n",
       "    .dataframe tbody tr th:only-of-type {\n",
       "        vertical-align: middle;\n",
       "    }\n",
       "\n",
       "    .dataframe tbody tr th {\n",
       "        vertical-align: top;\n",
       "    }\n",
       "\n",
       "    .dataframe thead tr th {\n",
       "        text-align: left;\n",
       "    }\n",
       "\n",
       "    .dataframe thead tr:last-of-type th {\n",
       "        text-align: right;\n",
       "    }\n",
       "</style>\n",
       "<table border=\"1\" class=\"dataframe\">\n",
       "  <thead>\n",
       "    <tr>\n",
       "      <th></th>\n",
       "      <th colspan=\"8\" halign=\"left\">execution_time</th>\n",
       "      <th colspan=\"2\" halign=\"left\">Amount</th>\n",
       "      <th>...</th>\n",
       "      <th colspan=\"2\" halign=\"left\">beneficiary_freq</th>\n",
       "      <th colspan=\"8\" halign=\"left\">application_freq</th>\n",
       "    </tr>\n",
       "    <tr>\n",
       "      <th></th>\n",
       "      <th>count</th>\n",
       "      <th>mean</th>\n",
       "      <th>std</th>\n",
       "      <th>min</th>\n",
       "      <th>25%</th>\n",
       "      <th>50%</th>\n",
       "      <th>75%</th>\n",
       "      <th>max</th>\n",
       "      <th>count</th>\n",
       "      <th>mean</th>\n",
       "      <th>...</th>\n",
       "      <th>75%</th>\n",
       "      <th>max</th>\n",
       "      <th>count</th>\n",
       "      <th>mean</th>\n",
       "      <th>std</th>\n",
       "      <th>min</th>\n",
       "      <th>25%</th>\n",
       "      <th>50%</th>\n",
       "      <th>75%</th>\n",
       "      <th>max</th>\n",
       "    </tr>\n",
       "    <tr>\n",
       "      <th>is_fraud</th>\n",
       "      <th></th>\n",
       "      <th></th>\n",
       "      <th></th>\n",
       "      <th></th>\n",
       "      <th></th>\n",
       "      <th></th>\n",
       "      <th></th>\n",
       "      <th></th>\n",
       "      <th></th>\n",
       "      <th></th>\n",
       "      <th></th>\n",
       "      <th></th>\n",
       "      <th></th>\n",
       "      <th></th>\n",
       "      <th></th>\n",
       "      <th></th>\n",
       "      <th></th>\n",
       "      <th></th>\n",
       "      <th></th>\n",
       "      <th></th>\n",
       "      <th></th>\n",
       "    </tr>\n",
       "  </thead>\n",
       "  <tbody>\n",
       "    <tr>\n",
       "      <th>0</th>\n",
       "      <td>105202.0</td>\n",
       "      <td>655.652336</td>\n",
       "      <td>1368.497015</td>\n",
       "      <td>15.0</td>\n",
       "      <td>359.0</td>\n",
       "      <td>623.0</td>\n",
       "      <td>795.0</td>\n",
       "      <td>127578.0</td>\n",
       "      <td>105202.0</td>\n",
       "      <td>457.337180</td>\n",
       "      <td>...</td>\n",
       "      <td>0.641509</td>\n",
       "      <td>1.0</td>\n",
       "      <td>105202.0</td>\n",
       "      <td>0.897077</td>\n",
       "      <td>0.218437</td>\n",
       "      <td>0.002433</td>\n",
       "      <td>0.945946</td>\n",
       "      <td>1.00</td>\n",
       "      <td>1.0</td>\n",
       "      <td>1.0</td>\n",
       "    </tr>\n",
       "    <tr>\n",
       "      <th>1</th>\n",
       "      <td>101.0</td>\n",
       "      <td>668.059406</td>\n",
       "      <td>277.834621</td>\n",
       "      <td>93.0</td>\n",
       "      <td>453.0</td>\n",
       "      <td>656.0</td>\n",
       "      <td>812.0</td>\n",
       "      <td>1937.0</td>\n",
       "      <td>101.0</td>\n",
       "      <td>12399.673267</td>\n",
       "      <td>...</td>\n",
       "      <td>0.166667</td>\n",
       "      <td>1.0</td>\n",
       "      <td>101.0</td>\n",
       "      <td>0.682153</td>\n",
       "      <td>0.387336</td>\n",
       "      <td>0.005291</td>\n",
       "      <td>0.279503</td>\n",
       "      <td>0.95</td>\n",
       "      <td>1.0</td>\n",
       "      <td>1.0</td>\n",
       "    </tr>\n",
       "  </tbody>\n",
       "</table>\n",
       "<p>2 rows × 48 columns</p>\n",
       "</div>"
      ],
      "text/plain": [
       "         execution_time                                                      \\\n",
       "                  count        mean          std   min    25%    50%    75%   \n",
       "is_fraud                                                                      \n",
       "0              105202.0  655.652336  1368.497015  15.0  359.0  623.0  795.0   \n",
       "1                 101.0  668.059406   277.834621  93.0  453.0  656.0  812.0   \n",
       "\n",
       "                      Amount                ... beneficiary_freq       \\\n",
       "               max     count          mean  ...              75%  max   \n",
       "is_fraud                                    ...                         \n",
       "0         127578.0  105202.0    457.337180  ...         0.641509  1.0   \n",
       "1           1937.0     101.0  12399.673267  ...         0.166667  1.0   \n",
       "\n",
       "         application_freq                                                     \\\n",
       "                    count      mean       std       min       25%   50%  75%   \n",
       "is_fraud                                                                       \n",
       "0                105202.0  0.897077  0.218437  0.002433  0.945946  1.00  1.0   \n",
       "1                   101.0  0.682153  0.387336  0.005291  0.279503  0.95  1.0   \n",
       "\n",
       "               \n",
       "          max  \n",
       "is_fraud       \n",
       "0         1.0  \n",
       "1         1.0  \n",
       "\n",
       "[2 rows x 48 columns]"
      ]
     },
     "execution_count": 8,
     "metadata": {},
     "output_type": "execute_result"
    }
   ],
   "source": [
    "df.groupby('is_fraud').describe()"
   ]
  },
  {
   "cell_type": "code",
   "execution_count": 9,
   "metadata": {},
   "outputs": [
    {
     "data": {
      "text/html": [
       "<div>\n",
       "<style scoped>\n",
       "    .dataframe tbody tr th:only-of-type {\n",
       "        vertical-align: middle;\n",
       "    }\n",
       "\n",
       "    .dataframe tbody tr th {\n",
       "        vertical-align: top;\n",
       "    }\n",
       "\n",
       "    .dataframe thead th {\n",
       "        text-align: right;\n",
       "    }\n",
       "</style>\n",
       "<table border=\"1\" class=\"dataframe\">\n",
       "  <thead>\n",
       "    <tr style=\"text-align: right;\">\n",
       "      <th></th>\n",
       "      <th>Name</th>\n",
       "    </tr>\n",
       "  </thead>\n",
       "  <tbody>\n",
       "    <tr>\n",
       "      <th>0</th>\n",
       "      <td>/ACCOUNTS/ACCOUNTS_FULL_EXCHANGE</td>\n",
       "    </tr>\n",
       "    <tr>\n",
       "      <th>1</th>\n",
       "      <td>/PROFILE/USERPROFILE</td>\n",
       "    </tr>\n",
       "    <tr>\n",
       "      <th>2</th>\n",
       "      <td>/P2PREGISTRATION/ASKMEMBER</td>\n",
       "    </tr>\n",
       "    <tr>\n",
       "      <th>3</th>\n",
       "      <td>/CARDS/FETCHCARDS</td>\n",
       "    </tr>\n",
       "    <tr>\n",
       "      <th>4</th>\n",
       "      <td>/ACCOUNTS/ACCOUNTS_FULL</td>\n",
       "    </tr>\n",
       "  </tbody>\n",
       "</table>\n",
       "</div>"
      ],
      "text/plain": [
       "                               Name\n",
       "0  /ACCOUNTS/ACCOUNTS_FULL_EXCHANGE\n",
       "1              /PROFILE/USERPROFILE\n",
       "2        /P2PREGISTRATION/ASKMEMBER\n",
       "3                 /CARDS/FETCHCARDS\n",
       "4           /ACCOUNTS/ACCOUNTS_FULL"
      ]
     },
     "execution_count": 9,
     "metadata": {},
     "output_type": "execute_result"
    }
   ],
   "source": [
    "df_vocab.head()"
   ]
  },
  {
   "cell_type": "code",
   "execution_count": 10,
   "metadata": {},
   "outputs": [
    {
     "data": {
      "text/plain": [
       "(1916, 1)"
      ]
     },
     "execution_count": 10,
     "metadata": {},
     "output_type": "execute_result"
    }
   ],
   "source": [
    "df_vocab.shape"
   ]
  },
  {
   "cell_type": "code",
   "execution_count": 11,
   "metadata": {},
   "outputs": [
    {
     "data": {
      "text/html": [
       "<div>\n",
       "<style scoped>\n",
       "    .dataframe tbody tr th:only-of-type {\n",
       "        vertical-align: middle;\n",
       "    }\n",
       "\n",
       "    .dataframe tbody tr th {\n",
       "        vertical-align: top;\n",
       "    }\n",
       "\n",
       "    .dataframe thead th {\n",
       "        text-align: right;\n",
       "    }\n",
       "</style>\n",
       "<table border=\"1\" class=\"dataframe\">\n",
       "  <thead>\n",
       "    <tr style=\"text-align: right;\">\n",
       "      <th></th>\n",
       "      <th>Name</th>\n",
       "    </tr>\n",
       "  </thead>\n",
       "  <tbody>\n",
       "    <tr>\n",
       "      <th>count</th>\n",
       "      <td>1916</td>\n",
       "    </tr>\n",
       "    <tr>\n",
       "      <th>unique</th>\n",
       "      <td>1916</td>\n",
       "    </tr>\n",
       "    <tr>\n",
       "      <th>top</th>\n",
       "      <td>/API/WHITELIST/PRODUCTS_LIST</td>\n",
       "    </tr>\n",
       "    <tr>\n",
       "      <th>freq</th>\n",
       "      <td>1</td>\n",
       "    </tr>\n",
       "  </tbody>\n",
       "</table>\n",
       "</div>"
      ],
      "text/plain": [
       "                                Name\n",
       "count                           1916\n",
       "unique                          1916\n",
       "top     /API/WHITELIST/PRODUCTS_LIST\n",
       "freq                               1"
      ]
     },
     "execution_count": 11,
     "metadata": {},
     "output_type": "execute_result"
    }
   ],
   "source": [
    "df_vocab.describe()"
   ]
  },
  {
   "cell_type": "markdown",
   "metadata": {},
   "source": [
    "EDA Summary\n",
    "\n",
    "- the transaction dataset contains 105303 online banking transactions\n",
    "- of the 105303 transactions, 105202 are valid while only 101 are fraudulent\n",
    "    - this is a severe class imbalance that will have to be handled in the neural network architecture\n",
    "- there are 9 attributes for each banking transaction:\n",
    "    - a label for trasactions that are valid or fraudulent (0 or 1 respectively)\n",
    "    - list of user actions encoded as a list of integers which corresponds to the vocabulary dataframe\n",
    "    - list of times in ms for each user action to occur\n",
    "    - the total elapsed time of the transaction in ms\n",
    "    - Recency, Frequency, and Monetary features:\n",
    "        - the transaction amount in log(Euros)\n",
    "        - the device characteristics\n",
    "        - the IP address of the user\n",
    "        - the beneficiary's frequency of conducting a transaction\n",
    "        - the applications used for the transaction (i.e., Android or iOS)\n",
    "- there also exists a vocabulary dataset which contains a list of API endpoints/webpage urls which a user can access\n",
    "    - these are used to translate the encoded user action column of the transaction dataset back to the original url's\n",
    "    - there are 1916 total endpoints/url's, all of which are unique\n",
    "    - the index of the dataframe corresponds to the id value used in the user action list from the transaction dataframe"
   ]
  },
  {
   "cell_type": "markdown",
   "metadata": {},
   "source": [
    "### Data Preprocessing\n",
    "\n",
    "* Enumerate and present the main steps you preformed in the data preprocessing\n",
    "* Add your code and interpret the outcome of main steps/functions"
   ]
  },
  {
   "cell_type": "code",
   "execution_count": 12,
   "metadata": {},
   "outputs": [],
   "source": [
    "# dictionary mapping ids in transaction data to vocabulary\n",
    "vocab = df_vocab['Name'].to_list()\n",
    "\n",
    "vocab_sentences = []\n",
    "for endpoint in vocab:\n",
    "    sentence = endpoint.replace('/', ' ').lstrip().lower() + ' .'\n",
    "    vocab_sentences.append(sentence)\n",
    "\n",
    "id_to_action = {i:a for i, a in enumerate(vocab_sentences)}"
   ]
  },
  {
   "cell_type": "code",
   "execution_count": 13,
   "metadata": {},
   "outputs": [],
   "source": [
    "# convert the tokenized user actions during online banking to API endpoint calls\n",
    "actions_raw = df['actions'].to_list()\n",
    "\n",
    "actions = []\n",
    "for action in actions_raw:\n",
    "\n",
    "    action_str = (action.replace('[', '')\n",
    "           .replace(']', '')\n",
    "           .replace(' ', '')\n",
    "           .split(','))\n",
    "    \n",
    "    action_ids = []\n",
    "    for id in action_str:\n",
    "        if id:\n",
    "            \n",
    "            action_ids.append(id_to_action[int(id)])\n",
    "\n",
    "    actions.append(' '.join(action_ids))"
   ]
  },
  {
   "cell_type": "code",
   "execution_count": 14,
   "metadata": {},
   "outputs": [
    {
     "name": "stdout",
     "output_type": "stream",
     "text": [
      "there are 101 fraudulent transactions\n",
      "which is only 0.10% of the total transactions\n"
     ]
    }
   ],
   "source": [
    "# create an array of labels\n",
    "labels = df['is_fraud'].to_list()\n",
    "\n",
    "print(f'there are {sum(labels)} fraudulent transactions')\n",
    "print(f'which is only {sum(labels)/len(labels)*100:0.2f}% of the total transactions')"
   ]
  },
  {
   "cell_type": "code",
   "execution_count": 15,
   "metadata": {},
   "outputs": [],
   "source": [
    "# seperate the data into training and testing datasets\n",
    "# enable the stratify option to ensure there are proportional amounts of fraudulent transactions in the training and testing datasets\n",
    "X_train, X_test, y_train, y_test = train_test_split(actions, labels, test_size=0.2, shuffle=True, stratify=labels)"
   ]
  },
  {
   "cell_type": "code",
   "execution_count": 16,
   "metadata": {},
   "outputs": [
    {
     "name": "stdout",
     "output_type": "stream",
     "text": [
      "81\n",
      "20\n"
     ]
    }
   ],
   "source": [
    "print(sum(y_train))\n",
    "print(sum(y_test))"
   ]
  },
  {
   "cell_type": "markdown",
   "metadata": {},
   "source": [
    "### Methodology\n",
    "\n",
    "1. Explan your Deep Learning process / methodology\n",
    "\n",
    "\n",
    "\n",
    "2. Introduce the Deep Neural Networks you used in your project\n",
    " * Model 1\n",
    "    * Description \n",
    " \n",
    " * Model 2\n",
    "    * Description\n",
    " \n",
    " * Ensemble method\n",
    "     * Description \n",
    " \n",
    " \n",
    "3. Add keywords  \n",
    "**Keywords:** natural language processing, sentiment analysis, clustering, binary classification, multi-label classification, prediction\n",
    "\t___\n",
    " **Example**\n",
    "* ConvNet\n",
    "    * A convolutional neural network (CNN, or ConvNet) is a class of deep neural networks, most commonly applied to analyzing visual imagery(source Wikipedia). \n",
    " \n",
    "* **Keywords:** supervised learning, classification, ..."
   ]
  },
  {
   "cell_type": "code",
   "execution_count": 17,
   "metadata": {},
   "outputs": [],
   "source": [
    "# TODO: Add code"
   ]
  },
  {
   "cell_type": "markdown",
   "metadata": {},
   "source": [
    "### Model Fitting and Validation\n",
    "\n",
    "1. model 1 \n",
    "    - decription \n",
    "2. model 2\n",
    "    - decription "
   ]
  },
  {
   "cell_type": "code",
   "execution_count": 18,
   "metadata": {},
   "outputs": [],
   "source": [
    "# TODO: Add Code"
   ]
  },
  {
   "cell_type": "markdown",
   "metadata": {},
   "source": [
    "### Model Evaluation \n",
    "\n",
    "* Examine your models (coefficients, parameters, errors, etc...)\n",
    "\n",
    "* Compute and interpret your results in terms of accuracy, precision, recall, ROC etc. "
   ]
  },
  {
   "cell_type": "code",
   "execution_count": 19,
   "metadata": {},
   "outputs": [],
   "source": [
    "# TODO: Add code"
   ]
  },
  {
   "cell_type": "markdown",
   "metadata": {},
   "source": [
    "### Issues / Improvements\n",
    "1. Dataset is very small\n",
    "2. Use regularization / initialization\n",
    "3. Use cross-validaiton\n",
    "4. ..."
   ]
  },
  {
   "cell_type": "markdown",
   "metadata": {},
   "source": [
    "###  References\n",
    "   - Academic (if any)\n",
    "   - Online (if any)\n",
    "\t"
   ]
  },
  {
   "cell_type": "markdown",
   "metadata": {},
   "source": [
    "### Credits\n",
    "\n",
    "- If you use and/or adapt your code from existing projects, you must provide links and acknowldge the authors. Keep in mind that all documents in your projects and code will be check against the official plagiarism detection tool used by Penn State ([Turnitin](https://turnitin.psu.edu))\n",
    "\n",
    "> *This code is based on .... (if any)*"
   ]
  }
 ],
 "metadata": {
  "kernelspec": {
   "display_name": ".venv",
   "language": "python",
   "name": "python3"
  },
  "language_info": {
   "codemirror_mode": {
    "name": "ipython",
    "version": 3
   },
   "file_extension": ".py",
   "mimetype": "text/x-python",
   "name": "python",
   "nbconvert_exporter": "python",
   "pygments_lexer": "ipython3",
   "version": "3.10.1"
  }
 },
 "nbformat": 4,
 "nbformat_minor": 2
}
